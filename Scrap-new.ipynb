{
 "cells": [
  {
   "cell_type": "code",
   "execution_count": 3,
   "metadata": {},
   "outputs": [],
   "source": [
    "import requests\n",
    "import urllib.request\n",
    "import time\n",
    "from bs4 import BeautifulSoup\n",
    "import urllib.request\n",
    "from tqdm import tqdm"
   ]
  },
  {
   "cell_type": "code",
   "execution_count": 119,
   "metadata": {},
   "outputs": [],
   "source": [
    "movieName = 'avengers_endgame'\n",
    "movieYear = '2019'\n",
    "moviePageURL = f'http://www.impawards.com/{movieYear}/{movieName}_gallery.html'\n",
    "response = requests.get(moviePageURL)"
   ]
  },
  {
   "cell_type": "code",
   "execution_count": 8,
   "metadata": {},
   "outputs": [],
   "source": [
    "soup = BeautifulSoup(response.text, \"html.parser\")"
   ]
  },
  {
   "cell_type": "code",
   "execution_count": 70,
   "metadata": {},
   "outputs": [],
   "source": [
    "allLinks = soup.findAll('a')"
   ]
  },
  {
   "cell_type": "code",
   "execution_count": 74,
   "metadata": {},
   "outputs": [],
   "source": [
    "posterLinks = [link for link in allLinks if link.img and link.img['src'].find('posters') >= 0]"
   ]
  },
  {
   "cell_type": "code",
   "execution_count": 77,
   "metadata": {},
   "outputs": [],
   "source": [
    "postersPages = [a['href'] for a in posterLinks]"
   ]
  },
  {
   "cell_type": "code",
   "execution_count": 125,
   "metadata": {},
   "outputs": [],
   "source": [
    "postersToDownload = []"
   ]
  },
  {
   "cell_type": "code",
   "execution_count": 141,
   "metadata": {},
   "outputs": [
    {
     "name": "stderr",
     "output_type": "stream",
     "text": [
      "\n",
      "  0%|                                                                                                                                           | 0/44 [00:00<?, ?it/s]\n",
      "  2%|██▉                                                                                                                                | 1/44 [00:00<00:30,  1.40it/s]\n",
      "  5%|█████▉                                                                                                                             | 2/44 [00:01<00:30,  1.37it/s]\n",
      "  7%|████████▉                                                                                                                          | 3/44 [00:02<00:32,  1.26it/s]\n",
      "  9%|███████████▉                                                                                                                       | 4/44 [00:03<00:30,  1.31it/s]\n",
      " 11%|██████████████▉                                                                                                                    | 5/44 [00:04<00:37,  1.04it/s]\n",
      " 14%|█████████████████▊                                                                                                                 | 6/44 [00:05<00:34,  1.11it/s]\n",
      " 16%|████████████████████▊                                                                                                              | 7/44 [00:06<00:31,  1.18it/s]\n",
      " 18%|███████████████████████▊                                                                                                           | 8/44 [00:06<00:29,  1.22it/s]\n",
      " 20%|██████████████████████████▊                                                                                                        | 9/44 [00:07<00:27,  1.27it/s]\n",
      " 23%|█████████████████████████████▌                                                                                                    | 10/44 [00:08<00:28,  1.19it/s]\n",
      " 25%|████████████████████████████████▌                                                                                                 | 11/44 [00:09<00:26,  1.22it/s]\n",
      " 27%|███████████████████████████████████▍                                                                                              | 12/44 [00:09<00:25,  1.28it/s]\n",
      " 30%|██████████████████████████████████████▍                                                                                           | 13/44 [00:10<00:25,  1.21it/s]\n",
      " 32%|█████████████████████████████████████████▎                                                                                        | 14/44 [00:11<00:25,  1.16it/s]\n",
      " 34%|████████████████████████████████████████████▎                                                                                     | 15/44 [00:13<00:34,  1.20s/it]\n",
      " 36%|███████████████████████████████████████████████▎                                                                                  | 16/44 [00:15<00:36,  1.30s/it]\n",
      " 39%|██████████████████████████████████████████████████▏                                                                               | 17/44 [00:16<00:35,  1.32s/it]\n",
      " 41%|█████████████████████████████████████████████████████▏                                                                            | 18/44 [00:18<00:34,  1.34s/it]\n",
      " 43%|████████████████████████████████████████████████████████▏                                                                         | 19/44 [00:19<00:30,  1.24s/it]\n",
      " 45%|███████████████████████████████████████████████████████████                                                                       | 20/44 [00:19<00:25,  1.07s/it]\n",
      " 48%|██████████████████████████████████████████████████████████████                                                                    | 21/44 [00:21<00:26,  1.17s/it]\n",
      " 50%|█████████████████████████████████████████████████████████████████                                                                 | 22/44 [00:21<00:22,  1.02s/it]\n",
      " 52%|███████████████████████████████████████████████████████████████████▉                                                              | 23/44 [00:22<00:19,  1.05it/s]\n",
      " 55%|██████████████████████████████████████████████████████████████████████▉                                                           | 24/44 [00:23<00:17,  1.14it/s]\n",
      " 57%|█████████████████████████████████████████████████████████████████████████▊                                                        | 25/44 [00:24<00:15,  1.20it/s]\n",
      " 59%|████████████████████████████████████████████████████████████████████████████▊                                                     | 26/44 [00:24<00:14,  1.25it/s]\n",
      " 61%|███████████████████████████████████████████████████████████████████████████████▊                                                  | 27/44 [00:25<00:13,  1.27it/s]\n",
      " 64%|██████████████████████████████████████████████████████████████████████████████████▋                                               | 28/44 [00:26<00:12,  1.31it/s]\n",
      " 66%|█████████████████████████████████████████████████████████████████████████████████████▋                                            | 29/44 [00:26<00:11,  1.32it/s]\n",
      " 68%|████████████████████████████████████████████████████████████████████████████████████████▋                                         | 30/44 [00:27<00:10,  1.34it/s]\n",
      " 70%|███████████████████████████████████████████████████████████████████████████████████████████▌                                      | 31/44 [00:28<00:09,  1.33it/s]\n",
      " 73%|██████████████████████████████████████████████████████████████████████████████████████████████▌                                   | 32/44 [00:29<00:08,  1.35it/s]\n",
      " 75%|█████████████████████████████████████████████████████████████████████████████████████████████████▌                                | 33/44 [00:29<00:08,  1.34it/s]\n",
      " 77%|████████████████████████████████████████████████████████████████████████████████████████████████████▍                             | 34/44 [00:30<00:07,  1.33it/s]\n",
      " 80%|███████████████████████████████████████████████████████████████████████████████████████████████████████▍                          | 35/44 [00:31<00:06,  1.35it/s]\n",
      " 82%|██████████████████████████████████████████████████████████████████████████████████████████████████████████▎                       | 36/44 [00:32<00:05,  1.35it/s]\n",
      " 84%|█████████████████████████████████████████████████████████████████████████████████████████████████████████████▎                    | 37/44 [00:32<00:05,  1.38it/s]\n",
      " 86%|████████████████████████████████████████████████████████████████████████████████████████████████████████████████▎                 | 38/44 [00:33<00:04,  1.27it/s]\n",
      " 89%|███████████████████████████████████████████████████████████████████████████████████████████████████████████████████▏              | 39/44 [00:34<00:03,  1.31it/s]\n",
      " 91%|██████████████████████████████████████████████████████████████████████████████████████████████████████████████████████▏           | 40/44 [00:35<00:02,  1.35it/s]\n",
      " 93%|█████████████████████████████████████████████████████████████████████████████████████████████████████████████████████████▏        | 41/44 [00:35<00:02,  1.38it/s]\n",
      " 95%|████████████████████████████████████████████████████████████████████████████████████████████████████████████████████████████      | 42/44 [00:36<00:01,  1.40it/s]\n",
      " 98%|███████████████████████████████████████████████████████████████████████████████████████████████████████████████████████████████   | 43/44 [00:37<00:00,  1.39it/s]\n",
      "100%|██████████████████████████████████████████████████████████████████████████████████████████████████████████████████████████████████| 44/44 [00:38<00:00,  1.17it/s]\n"
     ]
    }
   ],
   "source": [
    "for posterPage in tqdm(postersPages):\n",
    "    url = f'http://www.impawards.com/2019/{posterPage}'\n",
    "    response = requests.get(url)\n",
    "    soup = BeautifulSoup(response.text, \"html.parser\")\n",
    "    allLinks = soup.findAll('a')\n",
    "    posterLinks = [link for link in allLinks if link['href'].find(movieName) >= 0 and link.contents[0].find('x') not in [None, -1]]\n",
    "    bigestPosterName = posterLinks[-1]['href']\n",
    "    bigestPosterName = bigestPosterName.replace('html', 'jpg')\n",
    "    biggestPosterLink = f'http://www.impawards.com/{movieYear}/posters/{bigestPosterName}'\n",
    "    postersToDownload.append(biggestPosterLink)"
   ]
  },
  {
   "cell_type": "code",
   "execution_count": 144,
   "metadata": {},
   "outputs": [],
   "source": [
    "with open('test.txt', 'w') as file:\n",
    "    file.write('\\n'.join(postersToDownload))"
   ]
  },
  {
   "cell_type": "code",
   "execution_count": 145,
   "metadata": {},
   "outputs": [
    {
     "name": "stderr",
     "output_type": "stream",
     "text": [
      "\n",
      "  0%|                                                                                                                                           | 0/89 [00:00<?, ?it/s]\n",
      "  1%|█▍                                                                                                                                 | 1/89 [00:16<23:34, 16.07s/it]\n",
      "  2%|██▉                                                                                                                                | 2/89 [00:26<20:41, 14.28s/it]"
     ]
    },
    {
     "ename": "KeyboardInterrupt",
     "evalue": "",
     "output_type": "error",
     "traceback": [
      "\u001b[1;31m---------------------------------------------------------------------------\u001b[0m",
      "\u001b[1;31mKeyboardInterrupt\u001b[0m                         Traceback (most recent call last)",
      "\u001b[1;32m<ipython-input-145-61d6d24c7d71>\u001b[0m in \u001b[0;36m<module>\u001b[1;34m\u001b[0m\n\u001b[0;32m      1\u001b[0m \u001b[1;32mfor\u001b[0m \u001b[0mposter\u001b[0m \u001b[1;32min\u001b[0m \u001b[0mtqdm\u001b[0m\u001b[1;33m(\u001b[0m\u001b[0mpostersToDownload\u001b[0m\u001b[1;33m)\u001b[0m\u001b[1;33m:\u001b[0m\u001b[1;33m\u001b[0m\u001b[1;33m\u001b[0m\u001b[0m\n\u001b[1;32m----> 2\u001b[1;33m     \u001b[0murllib\u001b[0m\u001b[1;33m.\u001b[0m\u001b[0mrequest\u001b[0m\u001b[1;33m.\u001b[0m\u001b[0murlretrieve\u001b[0m\u001b[1;33m(\u001b[0m\u001b[0mposter\u001b[0m\u001b[1;33m,\u001b[0m \u001b[0mposter\u001b[0m\u001b[1;33m.\u001b[0m\u001b[0msplit\u001b[0m\u001b[1;33m(\u001b[0m\u001b[1;34m'/'\u001b[0m\u001b[1;33m)\u001b[0m\u001b[1;33m[\u001b[0m\u001b[1;33m-\u001b[0m\u001b[1;36m1\u001b[0m\u001b[1;33m]\u001b[0m\u001b[1;33m)\u001b[0m\u001b[1;33m\u001b[0m\u001b[1;33m\u001b[0m\u001b[0m\n\u001b[0m",
      "\u001b[1;32m~\\AppData\\Local\\Continuum\\anaconda3\\envs\\deep-learning\\lib\\urllib\\request.py\u001b[0m in \u001b[0;36murlretrieve\u001b[1;34m(url, filename, reporthook, data)\u001b[0m\n\u001b[0;32m    275\u001b[0m \u001b[1;33m\u001b[0m\u001b[0m\n\u001b[0;32m    276\u001b[0m             \u001b[1;32mwhile\u001b[0m \u001b[1;32mTrue\u001b[0m\u001b[1;33m:\u001b[0m\u001b[1;33m\u001b[0m\u001b[1;33m\u001b[0m\u001b[0m\n\u001b[1;32m--> 277\u001b[1;33m                 \u001b[0mblock\u001b[0m \u001b[1;33m=\u001b[0m \u001b[0mfp\u001b[0m\u001b[1;33m.\u001b[0m\u001b[0mread\u001b[0m\u001b[1;33m(\u001b[0m\u001b[0mbs\u001b[0m\u001b[1;33m)\u001b[0m\u001b[1;33m\u001b[0m\u001b[1;33m\u001b[0m\u001b[0m\n\u001b[0m\u001b[0;32m    278\u001b[0m                 \u001b[1;32mif\u001b[0m \u001b[1;32mnot\u001b[0m \u001b[0mblock\u001b[0m\u001b[1;33m:\u001b[0m\u001b[1;33m\u001b[0m\u001b[1;33m\u001b[0m\u001b[0m\n\u001b[0;32m    279\u001b[0m                     \u001b[1;32mbreak\u001b[0m\u001b[1;33m\u001b[0m\u001b[1;33m\u001b[0m\u001b[0m\n",
      "\u001b[1;32m~\\AppData\\Local\\Continuum\\anaconda3\\envs\\deep-learning\\lib\\http\\client.py\u001b[0m in \u001b[0;36mread\u001b[1;34m(self, amt)\u001b[0m\n\u001b[0;32m    447\u001b[0m             \u001b[1;31m# Amount is given, implement using readinto\u001b[0m\u001b[1;33m\u001b[0m\u001b[1;33m\u001b[0m\u001b[1;33m\u001b[0m\u001b[0m\n\u001b[0;32m    448\u001b[0m             \u001b[0mb\u001b[0m \u001b[1;33m=\u001b[0m \u001b[0mbytearray\u001b[0m\u001b[1;33m(\u001b[0m\u001b[0mamt\u001b[0m\u001b[1;33m)\u001b[0m\u001b[1;33m\u001b[0m\u001b[1;33m\u001b[0m\u001b[0m\n\u001b[1;32m--> 449\u001b[1;33m             \u001b[0mn\u001b[0m \u001b[1;33m=\u001b[0m \u001b[0mself\u001b[0m\u001b[1;33m.\u001b[0m\u001b[0mreadinto\u001b[0m\u001b[1;33m(\u001b[0m\u001b[0mb\u001b[0m\u001b[1;33m)\u001b[0m\u001b[1;33m\u001b[0m\u001b[1;33m\u001b[0m\u001b[0m\n\u001b[0m\u001b[0;32m    450\u001b[0m             \u001b[1;32mreturn\u001b[0m \u001b[0mmemoryview\u001b[0m\u001b[1;33m(\u001b[0m\u001b[0mb\u001b[0m\u001b[1;33m)\u001b[0m\u001b[1;33m[\u001b[0m\u001b[1;33m:\u001b[0m\u001b[0mn\u001b[0m\u001b[1;33m]\u001b[0m\u001b[1;33m.\u001b[0m\u001b[0mtobytes\u001b[0m\u001b[1;33m(\u001b[0m\u001b[1;33m)\u001b[0m\u001b[1;33m\u001b[0m\u001b[1;33m\u001b[0m\u001b[0m\n\u001b[0;32m    451\u001b[0m         \u001b[1;32melse\u001b[0m\u001b[1;33m:\u001b[0m\u001b[1;33m\u001b[0m\u001b[1;33m\u001b[0m\u001b[0m\n",
      "\u001b[1;32m~\\AppData\\Local\\Continuum\\anaconda3\\envs\\deep-learning\\lib\\http\\client.py\u001b[0m in \u001b[0;36mreadinto\u001b[1;34m(self, b)\u001b[0m\n\u001b[0;32m    491\u001b[0m         \u001b[1;31m# connection, and the user is reading more bytes than will be provided\u001b[0m\u001b[1;33m\u001b[0m\u001b[1;33m\u001b[0m\u001b[1;33m\u001b[0m\u001b[0m\n\u001b[0;32m    492\u001b[0m         \u001b[1;31m# (for example, reading in 1k chunks)\u001b[0m\u001b[1;33m\u001b[0m\u001b[1;33m\u001b[0m\u001b[1;33m\u001b[0m\u001b[0m\n\u001b[1;32m--> 493\u001b[1;33m         \u001b[0mn\u001b[0m \u001b[1;33m=\u001b[0m \u001b[0mself\u001b[0m\u001b[1;33m.\u001b[0m\u001b[0mfp\u001b[0m\u001b[1;33m.\u001b[0m\u001b[0mreadinto\u001b[0m\u001b[1;33m(\u001b[0m\u001b[0mb\u001b[0m\u001b[1;33m)\u001b[0m\u001b[1;33m\u001b[0m\u001b[1;33m\u001b[0m\u001b[0m\n\u001b[0m\u001b[0;32m    494\u001b[0m         \u001b[1;32mif\u001b[0m \u001b[1;32mnot\u001b[0m \u001b[0mn\u001b[0m \u001b[1;32mand\u001b[0m \u001b[0mb\u001b[0m\u001b[1;33m:\u001b[0m\u001b[1;33m\u001b[0m\u001b[1;33m\u001b[0m\u001b[0m\n\u001b[0;32m    495\u001b[0m             \u001b[1;31m# Ideally, we would raise IncompleteRead if the content-length\u001b[0m\u001b[1;33m\u001b[0m\u001b[1;33m\u001b[0m\u001b[1;33m\u001b[0m\u001b[0m\n",
      "\u001b[1;32m~\\AppData\\Local\\Continuum\\anaconda3\\envs\\deep-learning\\lib\\socket.py\u001b[0m in \u001b[0;36mreadinto\u001b[1;34m(self, b)\u001b[0m\n\u001b[0;32m    584\u001b[0m         \u001b[1;32mwhile\u001b[0m \u001b[1;32mTrue\u001b[0m\u001b[1;33m:\u001b[0m\u001b[1;33m\u001b[0m\u001b[1;33m\u001b[0m\u001b[0m\n\u001b[0;32m    585\u001b[0m             \u001b[1;32mtry\u001b[0m\u001b[1;33m:\u001b[0m\u001b[1;33m\u001b[0m\u001b[1;33m\u001b[0m\u001b[0m\n\u001b[1;32m--> 586\u001b[1;33m                 \u001b[1;32mreturn\u001b[0m \u001b[0mself\u001b[0m\u001b[1;33m.\u001b[0m\u001b[0m_sock\u001b[0m\u001b[1;33m.\u001b[0m\u001b[0mrecv_into\u001b[0m\u001b[1;33m(\u001b[0m\u001b[0mb\u001b[0m\u001b[1;33m)\u001b[0m\u001b[1;33m\u001b[0m\u001b[1;33m\u001b[0m\u001b[0m\n\u001b[0m\u001b[0;32m    587\u001b[0m             \u001b[1;32mexcept\u001b[0m \u001b[0mtimeout\u001b[0m\u001b[1;33m:\u001b[0m\u001b[1;33m\u001b[0m\u001b[1;33m\u001b[0m\u001b[0m\n\u001b[0;32m    588\u001b[0m                 \u001b[0mself\u001b[0m\u001b[1;33m.\u001b[0m\u001b[0m_timeout_occurred\u001b[0m \u001b[1;33m=\u001b[0m \u001b[1;32mTrue\u001b[0m\u001b[1;33m\u001b[0m\u001b[1;33m\u001b[0m\u001b[0m\n",
      "\u001b[1;31mKeyboardInterrupt\u001b[0m: "
     ]
    }
   ],
   "source": [
    "for poster in tqdm(postersToDownload):\n",
    "    urllib.request.urlretrieve(poster, poster.split('/')[-1])"
   ]
  },
  {
   "cell_type": "code",
   "execution_count": 147,
   "metadata": {},
   "outputs": [],
   "source": [
    "import aria2p"
   ]
  },
  {
   "cell_type": "code",
   "execution_count": 167,
   "metadata": {},
   "outputs": [
    {
     "ename": "AttributeError",
     "evalue": "module 'aria2p' has no attribute 'add_uris'",
     "output_type": "error",
     "traceback": [
      "\u001b[1;31m---------------------------------------------------------------------------\u001b[0m",
      "\u001b[1;31mAttributeError\u001b[0m                            Traceback (most recent call last)",
      "\u001b[1;32m<ipython-input-167-2f84beaa9082>\u001b[0m in \u001b[0;36m<module>\u001b[1;34m\u001b[0m\n\u001b[1;32m----> 1\u001b[1;33m \u001b[0maria2p\u001b[0m\u001b[1;33m.\u001b[0m\u001b[0madd_uris\u001b[0m\u001b[1;33m(\u001b[0m\u001b[0muris\u001b[0m\u001b[1;33m=\u001b[0m\u001b[1;33m[\u001b[0m\u001b[1;34m\"http://www.impawards.com/2019/posters/avengers_endgame_xxlg.jpg\"\u001b[0m\u001b[1;33m]\u001b[0m\u001b[1;33m)\u001b[0m\u001b[1;33m\u001b[0m\u001b[1;33m\u001b[0m\u001b[0m\n\u001b[0m",
      "\u001b[1;31mAttributeError\u001b[0m: module 'aria2p' has no attribute 'add_uris'"
     ]
    }
   ],
   "source": [
    "aria2p.add_uris(uris=[\"http://www.impawards.com/2019/posters/avengers_endgame_xxlg.jpg\"])"
   ]
  },
  {
   "cell_type": "code",
   "execution_count": 191,
   "metadata": {},
   "outputs": [
    {
     "ename": "TypeError",
     "evalue": "required argument 'pLinksArray' missing",
     "output_type": "error",
     "traceback": [
      "\u001b[1;31m---------------------------------------------------------------------------\u001b[0m",
      "\u001b[1;31mTypeError\u001b[0m                                 Traceback (most recent call last)",
      "\u001b[1;32m<ipython-input-191-75d8017ab1d0>\u001b[0m in \u001b[0;36m<module>\u001b[1;34m\u001b[0m\n\u001b[0;32m     14\u001b[0m \u001b[1;31m# referrer, cookie, postData, user, password, r\"C:\\\\\", \"idman401.exe\", 0)\u001b[0m\u001b[1;33m\u001b[0m\u001b[1;33m\u001b[0m\u001b[1;33m\u001b[0m\u001b[0m\n\u001b[0;32m     15\u001b[0m \u001b[0mlarray\u001b[0m \u001b[1;33m=\u001b[0m \u001b[1;33m[\u001b[0m\u001b[1;34m\"http://www.impawards.com/2019/posters/avengers_endgame_xxlg.jpg\"\u001b[0m\u001b[1;33m,\u001b[0m \u001b[1;34m\"http://www.impawards.com/2019/posters/avengers_endgame_ver2_xlg.jpg\"\u001b[0m\u001b[1;33m]\u001b[0m\u001b[1;33m\u001b[0m\u001b[1;33m\u001b[0m\u001b[0m\n\u001b[1;32m---> 16\u001b[1;33m \u001b[0midm1\u001b[0m\u001b[1;33m.\u001b[0m\u001b[0mSendLinksArray\u001b[0m\u001b[1;33m(\u001b[0m\u001b[0mid\u001b[0m\u001b[1;33m(\u001b[0m\u001b[0mlarray\u001b[0m\u001b[1;33m)\u001b[0m\u001b[1;33m)\u001b[0m\u001b[1;33m\u001b[0m\u001b[1;33m\u001b[0m\u001b[0m\n\u001b[0m",
      "\u001b[1;31mTypeError\u001b[0m: required argument 'pLinksArray' missing"
     ]
    }
   ],
   "source": [
    "import comtypes.client as cc\n",
    "import comtypes\n",
    "\n",
    "referrer = \"\"\n",
    "cookie = \"\"\n",
    "postData = \"\"\n",
    "user = \"\"\n",
    "password = \"\"\n",
    "cc.GetModule([\"{ECF21EAB-3AA8-4355-82BE-F777990001DD}\",1,0])\n",
    "# not sure about the syntax here, but cc.GetModule will tell you the name of the wrapper it generated\n",
    "import comtypes.gen.IDManLib as IDMan\n",
    "idm1 = cc.CreateObject(\"IDMan.CIDMLinkTransmitter\", None, None, IDMan.ICIDMLinkTransmitter2)\n",
    "idm1.SendLinkToIDM(\"http://www.impawards.com/2019/posters/avengers_endgame_xxlg.jpg\",\n",
    "referrer, cookie, postData, user, password, r\"C:\\\\\", \"idman401.exe\", 0)"
   ]
  },
  {
   "cell_type": "code",
   "execution_count": null,
   "metadata": {},
   "outputs": [],
   "source": []
  }
 ],
 "metadata": {
  "kernelspec": {
   "display_name": "deep-learning",
   "language": "python",
   "name": "deep-learning"
  },
  "language_info": {
   "codemirror_mode": {
    "name": "ipython",
    "version": 3
   },
   "file_extension": ".py",
   "mimetype": "text/x-python",
   "name": "python",
   "nbconvert_exporter": "python",
   "pygments_lexer": "ipython3",
   "version": "3.6.7"
  }
 },
 "nbformat": 4,
 "nbformat_minor": 2
}
